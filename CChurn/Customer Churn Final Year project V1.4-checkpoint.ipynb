{
 "cells": [
  {
   "cell_type": "markdown",
   "id": "c804ea32",
   "metadata": {},
   "source": [
    "# Importing Necessary Libraries"
   ]
  },
  {
   "cell_type": "code",
   "execution_count": 17,
   "id": "d8bc8641",
   "metadata": {},
   "outputs": [],
   "source": [
    "import pandas as pd\n",
    "import numpy as np\n",
    "\n",
    "from sklearn import preprocessing\n",
    "import sklearn\n",
    "from sklearn.svm import SVC\n",
    "from sklearn.preprocessing import StandardScaler\n",
    "from sklearn.datasets import make_classification\n",
    "from sklearn.preprocessing import LabelEncoder\n",
    "from sklearn.preprocessing import OneHotEncoder\n",
    "#from sklearn.pandas import DataFrameMapper\n",
    "from sklearn.model_selection import train_test_split\n",
    "from sklearn.pipeline import Pipeline\n",
    "from sklearn.compose import ColumnTransformer\n",
    "from sklearn.preprocessing import Normalizer\n",
    "from matplotlib import pyplot as plt"
   ]
  },
  {
   "cell_type": "markdown",
   "id": "219dc6f6",
   "metadata": {},
   "source": [
    "# Loading Data"
   ]
  },
  {
   "cell_type": "code",
   "execution_count": 18,
   "id": "ac32104a",
   "metadata": {},
   "outputs": [],
   "source": [
    "Data_train = pd.read_csv('Customer churn train. V2.1csv.csv')"
   ]
  },
  {
   "cell_type": "code",
   "execution_count": 19,
   "id": "7fff0899",
   "metadata": {},
   "outputs": [
    {
     "data": {
      "text/plain": "     state  account_length      area_code international_plan voice_mail_plan  \\\n0       OH             107  area_code_415                 no             yes   \n1       NJ             137  area_code_415                 no              no   \n2       OH              84  area_code_408                yes              no   \n3       OK              75  area_code_415                yes              no   \n4       MA             121  area_code_510                 no             yes   \n...    ...             ...            ...                ...             ...   \n4245    MT              83  area_code_415                 no              no   \n4246    WV              73  area_code_408                 no              no   \n4247    NC              75  area_code_408                 no              no   \n4248    HI              50  area_code_408                 no             yes   \n4249    VT              86  area_code_415                 no             yes   \n\n      number_vmail_messages  total_day_minutes  total_day_calls  \\\n0                        26              161.6              123   \n1                         0              243.4              114   \n2                         0              299.4               71   \n3                         0              166.7              113   \n4                        24              218.2               88   \n...                     ...                ...              ...   \n4245                      0              188.3               70   \n4246                      0              177.9               89   \n4247                      0              170.7              101   \n4248                     40              235.7              127   \n4249                     34              129.4              102   \n\n      total_day_charge  total_eve_minutes  total_eve_calls  total_eve_charge  \\\n0                27.47              195.5              103             16.62   \n1                41.38              121.2              110             10.30   \n2                50.90               61.9               88              5.26   \n3                28.34              148.3              122             12.61   \n4                37.09              348.5              108             29.62   \n...                ...                ...              ...               ...   \n4245             32.01              243.8               88             20.72   \n4246             30.24              131.2               82             11.15   \n4247             29.02              193.1              126             16.41   \n4248             40.07              223.0              126             18.96   \n4249             22.00              267.1              104             22.70   \n\n      total_night_minutes  total_night_calls  total_night_charge  \\\n0                   254.4                103               11.45   \n1                   162.6                104                7.32   \n2                   196.9                 89                8.86   \n3                   186.9                121                8.41   \n4                   212.6                118                9.57   \n...                   ...                ...                 ...   \n4245                213.7                 79                9.62   \n4246                186.2                 89                8.38   \n4247                129.1                104                5.81   \n4248                297.5                116               13.39   \n4249                154.8                100                6.97   \n\n      total_intl_minutes  total_intl_calls  total_intl_charge  \\\n0                   13.7                 3               3.70   \n1                   12.2                 5               3.29   \n2                    6.6                 7               1.78   \n3                   10.1                 3               2.73   \n4                    7.5                 7               2.03   \n...                  ...               ...                ...   \n4245                10.3                 6               2.78   \n4246                11.5                 6               3.11   \n4247                 6.9                 7               1.86   \n4248                 9.9                 5               2.67   \n4249                 9.3                16               2.51   \n\n      number_customer_service_calls churn  \n0                                 1    no  \n1                                 0    no  \n2                                 2    no  \n3                                 3    no  \n4                                 3    no  \n...                             ...   ...  \n4245                              0    no  \n4246                              3    no  \n4247                              1    no  \n4248                              2    no  \n4249                              0    no  \n\n[4250 rows x 20 columns]",
      "text/html": "<div>\n<style scoped>\n    .dataframe tbody tr th:only-of-type {\n        vertical-align: middle;\n    }\n\n    .dataframe tbody tr th {\n        vertical-align: top;\n    }\n\n    .dataframe thead th {\n        text-align: right;\n    }\n</style>\n<table border=\"1\" class=\"dataframe\">\n  <thead>\n    <tr style=\"text-align: right;\">\n      <th></th>\n      <th>state</th>\n      <th>account_length</th>\n      <th>area_code</th>\n      <th>international_plan</th>\n      <th>voice_mail_plan</th>\n      <th>number_vmail_messages</th>\n      <th>total_day_minutes</th>\n      <th>total_day_calls</th>\n      <th>total_day_charge</th>\n      <th>total_eve_minutes</th>\n      <th>total_eve_calls</th>\n      <th>total_eve_charge</th>\n      <th>total_night_minutes</th>\n      <th>total_night_calls</th>\n      <th>total_night_charge</th>\n      <th>total_intl_minutes</th>\n      <th>total_intl_calls</th>\n      <th>total_intl_charge</th>\n      <th>number_customer_service_calls</th>\n      <th>churn</th>\n    </tr>\n  </thead>\n  <tbody>\n    <tr>\n      <th>0</th>\n      <td>OH</td>\n      <td>107</td>\n      <td>area_code_415</td>\n      <td>no</td>\n      <td>yes</td>\n      <td>26</td>\n      <td>161.6</td>\n      <td>123</td>\n      <td>27.47</td>\n      <td>195.5</td>\n      <td>103</td>\n      <td>16.62</td>\n      <td>254.4</td>\n      <td>103</td>\n      <td>11.45</td>\n      <td>13.7</td>\n      <td>3</td>\n      <td>3.70</td>\n      <td>1</td>\n      <td>no</td>\n    </tr>\n    <tr>\n      <th>1</th>\n      <td>NJ</td>\n      <td>137</td>\n      <td>area_code_415</td>\n      <td>no</td>\n      <td>no</td>\n      <td>0</td>\n      <td>243.4</td>\n      <td>114</td>\n      <td>41.38</td>\n      <td>121.2</td>\n      <td>110</td>\n      <td>10.30</td>\n      <td>162.6</td>\n      <td>104</td>\n      <td>7.32</td>\n      <td>12.2</td>\n      <td>5</td>\n      <td>3.29</td>\n      <td>0</td>\n      <td>no</td>\n    </tr>\n    <tr>\n      <th>2</th>\n      <td>OH</td>\n      <td>84</td>\n      <td>area_code_408</td>\n      <td>yes</td>\n      <td>no</td>\n      <td>0</td>\n      <td>299.4</td>\n      <td>71</td>\n      <td>50.90</td>\n      <td>61.9</td>\n      <td>88</td>\n      <td>5.26</td>\n      <td>196.9</td>\n      <td>89</td>\n      <td>8.86</td>\n      <td>6.6</td>\n      <td>7</td>\n      <td>1.78</td>\n      <td>2</td>\n      <td>no</td>\n    </tr>\n    <tr>\n      <th>3</th>\n      <td>OK</td>\n      <td>75</td>\n      <td>area_code_415</td>\n      <td>yes</td>\n      <td>no</td>\n      <td>0</td>\n      <td>166.7</td>\n      <td>113</td>\n      <td>28.34</td>\n      <td>148.3</td>\n      <td>122</td>\n      <td>12.61</td>\n      <td>186.9</td>\n      <td>121</td>\n      <td>8.41</td>\n      <td>10.1</td>\n      <td>3</td>\n      <td>2.73</td>\n      <td>3</td>\n      <td>no</td>\n    </tr>\n    <tr>\n      <th>4</th>\n      <td>MA</td>\n      <td>121</td>\n      <td>area_code_510</td>\n      <td>no</td>\n      <td>yes</td>\n      <td>24</td>\n      <td>218.2</td>\n      <td>88</td>\n      <td>37.09</td>\n      <td>348.5</td>\n      <td>108</td>\n      <td>29.62</td>\n      <td>212.6</td>\n      <td>118</td>\n      <td>9.57</td>\n      <td>7.5</td>\n      <td>7</td>\n      <td>2.03</td>\n      <td>3</td>\n      <td>no</td>\n    </tr>\n    <tr>\n      <th>...</th>\n      <td>...</td>\n      <td>...</td>\n      <td>...</td>\n      <td>...</td>\n      <td>...</td>\n      <td>...</td>\n      <td>...</td>\n      <td>...</td>\n      <td>...</td>\n      <td>...</td>\n      <td>...</td>\n      <td>...</td>\n      <td>...</td>\n      <td>...</td>\n      <td>...</td>\n      <td>...</td>\n      <td>...</td>\n      <td>...</td>\n      <td>...</td>\n      <td>...</td>\n    </tr>\n    <tr>\n      <th>4245</th>\n      <td>MT</td>\n      <td>83</td>\n      <td>area_code_415</td>\n      <td>no</td>\n      <td>no</td>\n      <td>0</td>\n      <td>188.3</td>\n      <td>70</td>\n      <td>32.01</td>\n      <td>243.8</td>\n      <td>88</td>\n      <td>20.72</td>\n      <td>213.7</td>\n      <td>79</td>\n      <td>9.62</td>\n      <td>10.3</td>\n      <td>6</td>\n      <td>2.78</td>\n      <td>0</td>\n      <td>no</td>\n    </tr>\n    <tr>\n      <th>4246</th>\n      <td>WV</td>\n      <td>73</td>\n      <td>area_code_408</td>\n      <td>no</td>\n      <td>no</td>\n      <td>0</td>\n      <td>177.9</td>\n      <td>89</td>\n      <td>30.24</td>\n      <td>131.2</td>\n      <td>82</td>\n      <td>11.15</td>\n      <td>186.2</td>\n      <td>89</td>\n      <td>8.38</td>\n      <td>11.5</td>\n      <td>6</td>\n      <td>3.11</td>\n      <td>3</td>\n      <td>no</td>\n    </tr>\n    <tr>\n      <th>4247</th>\n      <td>NC</td>\n      <td>75</td>\n      <td>area_code_408</td>\n      <td>no</td>\n      <td>no</td>\n      <td>0</td>\n      <td>170.7</td>\n      <td>101</td>\n      <td>29.02</td>\n      <td>193.1</td>\n      <td>126</td>\n      <td>16.41</td>\n      <td>129.1</td>\n      <td>104</td>\n      <td>5.81</td>\n      <td>6.9</td>\n      <td>7</td>\n      <td>1.86</td>\n      <td>1</td>\n      <td>no</td>\n    </tr>\n    <tr>\n      <th>4248</th>\n      <td>HI</td>\n      <td>50</td>\n      <td>area_code_408</td>\n      <td>no</td>\n      <td>yes</td>\n      <td>40</td>\n      <td>235.7</td>\n      <td>127</td>\n      <td>40.07</td>\n      <td>223.0</td>\n      <td>126</td>\n      <td>18.96</td>\n      <td>297.5</td>\n      <td>116</td>\n      <td>13.39</td>\n      <td>9.9</td>\n      <td>5</td>\n      <td>2.67</td>\n      <td>2</td>\n      <td>no</td>\n    </tr>\n    <tr>\n      <th>4249</th>\n      <td>VT</td>\n      <td>86</td>\n      <td>area_code_415</td>\n      <td>no</td>\n      <td>yes</td>\n      <td>34</td>\n      <td>129.4</td>\n      <td>102</td>\n      <td>22.00</td>\n      <td>267.1</td>\n      <td>104</td>\n      <td>22.70</td>\n      <td>154.8</td>\n      <td>100</td>\n      <td>6.97</td>\n      <td>9.3</td>\n      <td>16</td>\n      <td>2.51</td>\n      <td>0</td>\n      <td>no</td>\n    </tr>\n  </tbody>\n</table>\n<p>4250 rows × 20 columns</p>\n</div>"
     },
     "execution_count": 19,
     "metadata": {},
     "output_type": "execute_result"
    }
   ],
   "source": [
    "Data_train"
   ]
  },
  {
   "cell_type": "markdown",
   "id": "e1d7db49",
   "metadata": {},
   "source": [
    "# Data Exploration"
   ]
  },
  {
   "cell_type": "code",
   "execution_count": 20,
   "id": "81024d73",
   "metadata": {},
   "outputs": [
    {
     "name": "stdout",
     "output_type": "stream",
     "text": [
      "<class 'pandas.core.frame.DataFrame'>\n",
      "RangeIndex: 4250 entries, 0 to 4249\n",
      "Data columns (total 20 columns):\n",
      " #   Column                         Non-Null Count  Dtype  \n",
      "---  ------                         --------------  -----  \n",
      " 0   state                          4250 non-null   object \n",
      " 1   account_length                 4250 non-null   int64  \n",
      " 2   area_code                      4250 non-null   object \n",
      " 3   international_plan             4250 non-null   object \n",
      " 4   voice_mail_plan                4250 non-null   object \n",
      " 5   number_vmail_messages          4250 non-null   int64  \n",
      " 6   total_day_minutes              4250 non-null   float64\n",
      " 7   total_day_calls                4250 non-null   int64  \n",
      " 8   total_day_charge               4250 non-null   float64\n",
      " 9   total_eve_minutes              4250 non-null   float64\n",
      " 10  total_eve_calls                4250 non-null   int64  \n",
      " 11  total_eve_charge               4250 non-null   float64\n",
      " 12  total_night_minutes            4250 non-null   float64\n",
      " 13  total_night_calls              4250 non-null   int64  \n",
      " 14  total_night_charge             4250 non-null   float64\n",
      " 15  total_intl_minutes             4250 non-null   float64\n",
      " 16  total_intl_calls               4250 non-null   int64  \n",
      " 17  total_intl_charge              4250 non-null   float64\n",
      " 18  number_customer_service_calls  4250 non-null   int64  \n",
      " 19  churn                          4250 non-null   object \n",
      "dtypes: float64(8), int64(7), object(5)\n",
      "memory usage: 664.2+ KB\n"
     ]
    }
   ],
   "source": [
    "Data_train.info()\n"
   ]
  },
  {
   "cell_type": "code",
   "execution_count": 21,
   "id": "f1782c17",
   "metadata": {},
   "outputs": [
    {
     "data": {
      "text/plain": "       account_length  number_vmail_messages  total_day_minutes  \\\ncount     4250.000000            4250.000000        4250.000000   \nmean       100.236235               7.631765         180.259600   \nstd         39.698401              13.439882          54.012373   \nmin          1.000000               0.000000           0.000000   \n25%         73.000000               0.000000         143.325000   \n50%        100.000000               0.000000         180.450000   \n75%        127.000000              16.000000         216.200000   \nmax        243.000000              52.000000         351.500000   \n\n       total_day_calls  total_day_charge  total_eve_minutes  total_eve_calls  \\\ncount      4250.000000       4250.000000        4250.000000      4250.000000   \nmean         99.907294         30.644682         200.173906       100.176471   \nstd          19.850817          9.182096          50.249518        19.908591   \nmin           0.000000          0.000000           0.000000         0.000000   \n25%          87.000000         24.365000         165.925000        87.000000   \n50%         100.000000         30.680000         200.700000       100.000000   \n75%         113.000000         36.750000         233.775000       114.000000   \nmax         165.000000         59.760000         359.300000       170.000000   \n\n       total_eve_charge  total_night_minutes  total_night_calls  \\\ncount       4250.000000          4250.000000        4250.000000   \nmean          17.015012           200.527882          99.839529   \nstd            4.271212            50.353548          20.093220   \nmin            0.000000             0.000000           0.000000   \n25%           14.102500           167.225000          86.000000   \n50%           17.060000           200.450000         100.000000   \n75%           19.867500           234.700000         113.000000   \nmax           30.540000           395.000000         175.000000   \n\n       total_night_charge  total_intl_minutes  total_intl_calls  \\\ncount         4250.000000         4250.000000       4250.000000   \nmean             9.023892           10.256071          4.426353   \nstd              2.265922            2.760102          2.463069   \nmin              0.000000            0.000000          0.000000   \n25%              7.522500            8.500000          3.000000   \n50%              9.020000           10.300000          4.000000   \n75%             10.560000           12.000000          6.000000   \nmax             17.770000           20.000000         20.000000   \n\n       total_intl_charge  number_customer_service_calls  \ncount        4250.000000                    4250.000000  \nmean            2.769654                       1.559059  \nstd             0.745204                       1.311434  \nmin             0.000000                       0.000000  \n25%             2.300000                       1.000000  \n50%             2.780000                       1.000000  \n75%             3.240000                       2.000000  \nmax             5.400000                       9.000000  ",
      "text/html": "<div>\n<style scoped>\n    .dataframe tbody tr th:only-of-type {\n        vertical-align: middle;\n    }\n\n    .dataframe tbody tr th {\n        vertical-align: top;\n    }\n\n    .dataframe thead th {\n        text-align: right;\n    }\n</style>\n<table border=\"1\" class=\"dataframe\">\n  <thead>\n    <tr style=\"text-align: right;\">\n      <th></th>\n      <th>account_length</th>\n      <th>number_vmail_messages</th>\n      <th>total_day_minutes</th>\n      <th>total_day_calls</th>\n      <th>total_day_charge</th>\n      <th>total_eve_minutes</th>\n      <th>total_eve_calls</th>\n      <th>total_eve_charge</th>\n      <th>total_night_minutes</th>\n      <th>total_night_calls</th>\n      <th>total_night_charge</th>\n      <th>total_intl_minutes</th>\n      <th>total_intl_calls</th>\n      <th>total_intl_charge</th>\n      <th>number_customer_service_calls</th>\n    </tr>\n  </thead>\n  <tbody>\n    <tr>\n      <th>count</th>\n      <td>4250.000000</td>\n      <td>4250.000000</td>\n      <td>4250.000000</td>\n      <td>4250.000000</td>\n      <td>4250.000000</td>\n      <td>4250.000000</td>\n      <td>4250.000000</td>\n      <td>4250.000000</td>\n      <td>4250.000000</td>\n      <td>4250.000000</td>\n      <td>4250.000000</td>\n      <td>4250.000000</td>\n      <td>4250.000000</td>\n      <td>4250.000000</td>\n      <td>4250.000000</td>\n    </tr>\n    <tr>\n      <th>mean</th>\n      <td>100.236235</td>\n      <td>7.631765</td>\n      <td>180.259600</td>\n      <td>99.907294</td>\n      <td>30.644682</td>\n      <td>200.173906</td>\n      <td>100.176471</td>\n      <td>17.015012</td>\n      <td>200.527882</td>\n      <td>99.839529</td>\n      <td>9.023892</td>\n      <td>10.256071</td>\n      <td>4.426353</td>\n      <td>2.769654</td>\n      <td>1.559059</td>\n    </tr>\n    <tr>\n      <th>std</th>\n      <td>39.698401</td>\n      <td>13.439882</td>\n      <td>54.012373</td>\n      <td>19.850817</td>\n      <td>9.182096</td>\n      <td>50.249518</td>\n      <td>19.908591</td>\n      <td>4.271212</td>\n      <td>50.353548</td>\n      <td>20.093220</td>\n      <td>2.265922</td>\n      <td>2.760102</td>\n      <td>2.463069</td>\n      <td>0.745204</td>\n      <td>1.311434</td>\n    </tr>\n    <tr>\n      <th>min</th>\n      <td>1.000000</td>\n      <td>0.000000</td>\n      <td>0.000000</td>\n      <td>0.000000</td>\n      <td>0.000000</td>\n      <td>0.000000</td>\n      <td>0.000000</td>\n      <td>0.000000</td>\n      <td>0.000000</td>\n      <td>0.000000</td>\n      <td>0.000000</td>\n      <td>0.000000</td>\n      <td>0.000000</td>\n      <td>0.000000</td>\n      <td>0.000000</td>\n    </tr>\n    <tr>\n      <th>25%</th>\n      <td>73.000000</td>\n      <td>0.000000</td>\n      <td>143.325000</td>\n      <td>87.000000</td>\n      <td>24.365000</td>\n      <td>165.925000</td>\n      <td>87.000000</td>\n      <td>14.102500</td>\n      <td>167.225000</td>\n      <td>86.000000</td>\n      <td>7.522500</td>\n      <td>8.500000</td>\n      <td>3.000000</td>\n      <td>2.300000</td>\n      <td>1.000000</td>\n    </tr>\n    <tr>\n      <th>50%</th>\n      <td>100.000000</td>\n      <td>0.000000</td>\n      <td>180.450000</td>\n      <td>100.000000</td>\n      <td>30.680000</td>\n      <td>200.700000</td>\n      <td>100.000000</td>\n      <td>17.060000</td>\n      <td>200.450000</td>\n      <td>100.000000</td>\n      <td>9.020000</td>\n      <td>10.300000</td>\n      <td>4.000000</td>\n      <td>2.780000</td>\n      <td>1.000000</td>\n    </tr>\n    <tr>\n      <th>75%</th>\n      <td>127.000000</td>\n      <td>16.000000</td>\n      <td>216.200000</td>\n      <td>113.000000</td>\n      <td>36.750000</td>\n      <td>233.775000</td>\n      <td>114.000000</td>\n      <td>19.867500</td>\n      <td>234.700000</td>\n      <td>113.000000</td>\n      <td>10.560000</td>\n      <td>12.000000</td>\n      <td>6.000000</td>\n      <td>3.240000</td>\n      <td>2.000000</td>\n    </tr>\n    <tr>\n      <th>max</th>\n      <td>243.000000</td>\n      <td>52.000000</td>\n      <td>351.500000</td>\n      <td>165.000000</td>\n      <td>59.760000</td>\n      <td>359.300000</td>\n      <td>170.000000</td>\n      <td>30.540000</td>\n      <td>395.000000</td>\n      <td>175.000000</td>\n      <td>17.770000</td>\n      <td>20.000000</td>\n      <td>20.000000</td>\n      <td>5.400000</td>\n      <td>9.000000</td>\n    </tr>\n  </tbody>\n</table>\n</div>"
     },
     "execution_count": 21,
     "metadata": {},
     "output_type": "execute_result"
    }
   ],
   "source": [
    "Data_train.describe()"
   ]
  },
  {
   "cell_type": "code",
   "execution_count": 22,
   "id": "5d86c9b5",
   "metadata": {},
   "outputs": [
    {
     "data": {
      "text/plain": "state                            0\naccount_length                   0\narea_code                        0\ninternational_plan               0\nvoice_mail_plan                  0\nnumber_vmail_messages            0\ntotal_day_minutes                0\ntotal_day_calls                  0\ntotal_day_charge                 0\ntotal_eve_minutes                0\ntotal_eve_calls                  0\ntotal_eve_charge                 0\ntotal_night_minutes              0\ntotal_night_calls                0\ntotal_night_charge               0\ntotal_intl_minutes               0\ntotal_intl_calls                 0\ntotal_intl_charge                0\nnumber_customer_service_calls    0\nchurn                            0\ndtype: int64"
     },
     "execution_count": 22,
     "metadata": {},
     "output_type": "execute_result"
    }
   ],
   "source": [
    "Data_train.isnull().sum()"
   ]
  },
  {
   "cell_type": "markdown",
   "id": "3d2acb9c",
   "metadata": {},
   "source": [
    "# Pre-Processing"
   ]
  },
  {
   "cell_type": "code",
   "execution_count": 23,
   "id": "fc6ff685",
   "metadata": {},
   "outputs": [],
   "source": [
    "Data_train['state'] = Data_train['state'].astype('category')\n",
    "Data_train['area_code'] = Data_train['area_code'].astype('category')\n",
    "Data_train['international_plan'] = Data_train['international_plan'].astype('category')\n",
    "Data_train['voice_mail_plan'] = Data_train['voice_mail_plan'].astype('category')"
   ]
  },
  {
   "cell_type": "code",
   "execution_count": 24,
   "id": "de5af2a0",
   "metadata": {},
   "outputs": [
    {
     "name": "stdout",
     "output_type": "stream",
     "text": [
      "churn\n",
      "no     85.93\n",
      "yes    14.07\n",
      "dtype: float64\n"
     ]
    },
    {
     "data": {
      "text/plain": "Text(0, 0.5, 'Frequency')"
     },
     "execution_count": 24,
     "metadata": {},
     "output_type": "execute_result"
    },
    {
     "data": {
      "text/plain": "<Figure size 288x288 with 1 Axes>",
      "image/png": "[encoded data removed]"
     },
     "metadata": {
      "needs_background": "light"
     },
     "output_type": "display_data"
    }
   ],
   "source": [
    "print(round((Data_train.groupby(['churn']).size()/len(Data_train)*100),2))\n",
    "\n",
    "churn_plot = Data_train['churn'].value_counts(sort = True, ascending = False).plot(kind = 'bar',figsize = (4,4), color = ['#BB6B5A','#8CCB9B'])\n",
    "churn_plot.set_xlabel('Churn type')\n",
    "churn_plot.set_ylabel('Frequency')"
   ]
  },
  {
   "cell_type": "code",
   "execution_count": 25,
   "id": "5a4d09e3",
   "metadata": {},
   "outputs": [
    {
     "name": "stdout",
     "output_type": "stream",
     "text": [
      "Categorical columns:\n",
      "['state', 'area_code', 'international_plan', 'voice_mail_plan']\n"
     ]
    }
   ],
   "source": [
    "\n",
    "categoricalColumns = ['state','area_code','international_plan','voice_mail_plan']\n",
    "categorical_columns = []\n",
    "categorical_ix = Data_train.select_dtypes(include=['object', 'bool']).columns\n",
    "\n",
    "print(\"Categorical columns:\")\n",
    "print(categoricalColumns)\n",
    "\n",
    "onehotCategorical = preprocessing.OneHotEncoder(handle_unknown = 'ignore',categories='auto',sparse = False)\n",
    "\n",
    "categorical_transformer = Pipeline(steps = [('onehot', onehotCategorical)])"
   ]
  },
  {
   "cell_type": "code",
   "execution_count": 26,
   "id": "8af2ac69",
   "metadata": {},
   "outputs": [
    {
     "data": {
      "text/plain": "state                 category\narea_code             category\ninternational_plan    category\nvoice_mail_plan       category\ndtype: object"
     },
     "execution_count": 26,
     "metadata": {},
     "output_type": "execute_result"
    }
   ],
   "source": [
    "Data_train.loc[:,categoricalColumns].dtypes"
   ]
  },
  {
   "cell_type": "code",
   "execution_count": 27,
   "id": "6dd3f7dd",
   "metadata": {},
   "outputs": [
    {
     "data": {
      "text/plain": "<Figure size 1440x360 with 4 Axes>",
      "image/png": "[encoded data removed]"
     },
     "metadata": {
      "needs_background": "light"
     },
     "output_type": "display_data"
    }
   ],
   "source": [
    "import seaborn as sns\n",
    "fig, ax = plt.subplots(1, 4, figsize=(20, 5))\n",
    "for variable, subplot in zip(categoricalColumns, ax.flatten()):\n",
    "    sns.countplot(Data_train[variable], ax=subplot)\n",
    "    for label in subplot.get_xticklabels():\n",
    "        label.set_rotation(45)"
   ]
  },
  {
   "cell_type": "markdown",
   "id": "505e21e4",
   "metadata": {},
   "source": [
    "Let's find out the correlation between categorical variables and the target variable Skipping the state variable bacause it contains too many states as visible above."
   ]
  },
  {
   "cell_type": "code",
   "execution_count": 28,
   "id": "2e6c2834",
   "metadata": {},
   "outputs": [
    {
     "data": {
      "text/plain": "       area_code international_plan voice_mail_plan  churn\n0  area_code_415                 no             yes      0\n1  area_code_415                 no              no      0\n2  area_code_408                yes              no      0\n3  area_code_415                yes              no      0\n4  area_code_510                 no             yes      0",
      "text/html": "<div>\n<style scoped>\n    .dataframe tbody tr th:only-of-type {\n        vertical-align: middle;\n    }\n\n    .dataframe tbody tr th {\n        vertical-align: top;\n    }\n\n    .dataframe thead th {\n        text-align: right;\n    }\n</style>\n<table border=\"1\" class=\"dataframe\">\n  <thead>\n    <tr style=\"text-align: right;\">\n      <th></th>\n      <th>area_code</th>\n      <th>international_plan</th>\n      <th>voice_mail_plan</th>\n      <th>churn</th>\n    </tr>\n  </thead>\n  <tbody>\n    <tr>\n      <th>0</th>\n      <td>area_code_415</td>\n      <td>no</td>\n      <td>yes</td>\n      <td>0</td>\n    </tr>\n    <tr>\n      <th>1</th>\n      <td>area_code_415</td>\n      <td>no</td>\n      <td>no</td>\n      <td>0</td>\n    </tr>\n    <tr>\n      <th>2</th>\n      <td>area_code_408</td>\n      <td>yes</td>\n      <td>no</td>\n      <td>0</td>\n    </tr>\n    <tr>\n      <th>3</th>\n      <td>area_code_415</td>\n      <td>yes</td>\n      <td>no</td>\n      <td>0</td>\n    </tr>\n    <tr>\n      <th>4</th>\n      <td>area_code_510</td>\n      <td>no</td>\n      <td>yes</td>\n      <td>0</td>\n    </tr>\n  </tbody>\n</table>\n</div>"
     },
     "execution_count": 28,
     "metadata": {},
     "output_type": "execute_result"
    }
   ],
   "source": [
    "cols = ['area_code','international_plan','voice_mail_plan']\n",
    "Data_categorical = Data_train.loc[:,cols]\n",
    "Data_categorical['churn'] = Data_train['churn']\n",
    "\n",
    "Data_categorical['churn'].replace(to_replace='yes', value=1, inplace=True)\n",
    "Data_categorical['churn'].replace(to_replace='no',  value=0, inplace=True)\n",
    "\n",
    "Data_categorical.head()"
   ]
  },
  {
   "cell_type": "markdown",
   "id": "b01708aa",
   "metadata": {},
   "source": [
    "Encoding"
   ]
  },
  {
   "cell_type": "code",
   "execution_count": 29,
   "id": "f2282e9c",
   "metadata": {},
   "outputs": [],
   "source": [
    "# Data_dummies = pd.get_dummies(Data_categorical,columns=['area_code', 'international_plan','voice_mail_plan'])\n",
    "Data_dummies = Data_train.apply(LabelEncoder().fit_transform)\n",
    "Data_dummies['churn'] = Data_categorical['churn']\n"
   ]
  },
  {
   "cell_type": "code",
   "execution_count": 30,
   "id": "2499fd0a",
   "metadata": {},
   "outputs": [
    {
     "data": {
      "text/plain": "0       no\n1       no\n2       no\n3       no\n4       no\n        ..\n4245    no\n4246    no\n4247    no\n4248    no\n4249    no\nName: churn, Length: 4250, dtype: object"
     },
     "execution_count": 30,
     "metadata": {},
     "output_type": "execute_result"
    }
   ],
   "source": [
    "Data_train['churn']"
   ]
  },
  {
   "cell_type": "code",
   "execution_count": 31,
   "id": "4b7f3fb3",
   "metadata": {},
   "outputs": [
    {
     "data": {
      "text/plain": "      state  account_length  area_code  international_plan  voice_mail_plan  \\\n0        35             106          1                   0                1   \n1        31             136          1                   0                0   \n2        35              83          0                   1                0   \n3        36              74          1                   1                0   \n4        19             120          2                   0                1   \n...     ...             ...        ...                 ...              ...   \n4245     26              82          1                   0                0   \n4246     49              72          0                   0                0   \n4247     27              74          0                   0                0   \n4248     11              49          0                   0                1   \n4249     46              85          1                   0                1   \n\n      number_vmail_messages  total_day_minutes  total_day_calls  \\\n0                        20                737               86   \n1                         0               1483               77   \n2                         0               1788               34   \n3                         0                784               76   \n4                        18               1261               51   \n...                     ...                ...              ...   \n4245                      0                981               33   \n4246                      0                883               52   \n4247                      0                821               64   \n4248                     34               1418               90   \n4249                     28                439               65   \n\n      total_day_charge  total_eve_minutes  total_eve_calls  total_eve_charge  \\\n0                  737                832               64               740   \n1                 1483                195               71               185   \n2                 1788                 18               49                18   \n3                  784                393               83               359   \n4                 1261               1768               69              1567   \n...                ...                ...              ...               ...   \n4245               981               1293               49              1137   \n4246               883                259               43               243   \n4247               821                810               87               720   \n4248              1418               1099               87               969   \n4249               439               1489               65              1305   \n\n      total_night_minutes  total_night_calls  total_night_charge  \\\n0                    1378                 65                 732   \n1                     513                 66                 319   \n2                     842                 51                 473   \n3                     744                 83                 428   \n4                     991                 80                 544   \n...                   ...                ...                 ...   \n4245                 1002                 41                 549   \n4246                  737                 51                 425   \n4247                  235                 66                 173   \n4248                 1656                 78                 903   \n4249                  444                 62                 285   \n\n      total_intl_minutes  total_intl_calls  total_intl_charge  \\\n0                    116                 3                116   \n1                    101                 5                101   \n2                     45                 7                 45   \n3                     80                 3                 80   \n4                     54                 7                 54   \n...                  ...               ...                ...   \n4245                  82                 6                 82   \n4246                  94                 6                 94   \n4247                  48                 7                 48   \n4248                  78                 5                 78   \n4249                  72                16                 72   \n\n      number_customer_service_calls  churn  \n0                                 1      0  \n1                                 0      0  \n2                                 2      0  \n3                                 3      0  \n4                                 3      0  \n...                             ...    ...  \n4245                              0      0  \n4246                              3      0  \n4247                              1      0  \n4248                              2      0  \n4249                              0      0  \n\n[4250 rows x 20 columns]",
      "text/html": "<div>\n<style scoped>\n    .dataframe tbody tr th:only-of-type {\n        vertical-align: middle;\n    }\n\n    .dataframe tbody tr th {\n        vertical-align: top;\n    }\n\n    .dataframe thead th {\n        text-align: right;\n    }\n</style>\n<table border=\"1\" class=\"dataframe\">\n  <thead>\n    <tr style=\"text-align: right;\">\n      <th></th>\n      <th>state</th>\n      <th>account_length</th>\n      <th>area_code</th>\n      <th>international_plan</th>\n      <th>voice_mail_plan</th>\n      <th>number_vmail_messages</th>\n      <th>total_day_minutes</th>\n      <th>total_day_calls</th>\n      <th>total_day_charge</th>\n      <th>total_eve_minutes</th>\n      <th>total_eve_calls</th>\n      <th>total_eve_charge</th>\n      <th>total_night_minutes</th>\n      <th>total_night_calls</th>\n      <th>total_night_charge</th>\n      <th>total_intl_minutes</th>\n      <th>total_intl_calls</th>\n      <th>total_intl_charge</th>\n      <th>number_customer_service_calls</th>\n      <th>churn</th>\n    </tr>\n  </thead>\n  <tbody>\n    <tr>\n      <th>0</th>\n      <td>35</td>\n      <td>106</td>\n      <td>1</td>\n      <td>0</td>\n      <td>1</td>\n      <td>20</td>\n      <td>737</td>\n      <td>86</td>\n      <td>737</td>\n      <td>832</td>\n      <td>64</td>\n      <td>740</td>\n      <td>1378</td>\n      <td>65</td>\n      <td>732</td>\n      <td>116</td>\n      <td>3</td>\n      <td>116</td>\n      <td>1</td>\n      <td>0</td>\n    </tr>\n    <tr>\n      <th>1</th>\n      <td>31</td>\n      <td>136</td>\n      <td>1</td>\n      <td>0</td>\n      <td>0</td>\n      <td>0</td>\n      <td>1483</td>\n      <td>77</td>\n      <td>1483</td>\n      <td>195</td>\n      <td>71</td>\n      <td>185</td>\n      <td>513</td>\n      <td>66</td>\n      <td>319</td>\n      <td>101</td>\n      <td>5</td>\n      <td>101</td>\n      <td>0</td>\n      <td>0</td>\n    </tr>\n    <tr>\n      <th>2</th>\n      <td>35</td>\n      <td>83</td>\n      <td>0</td>\n      <td>1</td>\n      <td>0</td>\n      <td>0</td>\n      <td>1788</td>\n      <td>34</td>\n      <td>1788</td>\n      <td>18</td>\n      <td>49</td>\n      <td>18</td>\n      <td>842</td>\n      <td>51</td>\n      <td>473</td>\n      <td>45</td>\n      <td>7</td>\n      <td>45</td>\n      <td>2</td>\n      <td>0</td>\n    </tr>\n    <tr>\n      <th>3</th>\n      <td>36</td>\n      <td>74</td>\n      <td>1</td>\n      <td>1</td>\n      <td>0</td>\n      <td>0</td>\n      <td>784</td>\n      <td>76</td>\n      <td>784</td>\n      <td>393</td>\n      <td>83</td>\n      <td>359</td>\n      <td>744</td>\n      <td>83</td>\n      <td>428</td>\n      <td>80</td>\n      <td>3</td>\n      <td>80</td>\n      <td>3</td>\n      <td>0</td>\n    </tr>\n    <tr>\n      <th>4</th>\n      <td>19</td>\n      <td>120</td>\n      <td>2</td>\n      <td>0</td>\n      <td>1</td>\n      <td>18</td>\n      <td>1261</td>\n      <td>51</td>\n      <td>1261</td>\n      <td>1768</td>\n      <td>69</td>\n      <td>1567</td>\n      <td>991</td>\n      <td>80</td>\n      <td>544</td>\n      <td>54</td>\n      <td>7</td>\n      <td>54</td>\n      <td>3</td>\n      <td>0</td>\n    </tr>\n    <tr>\n      <th>...</th>\n      <td>...</td>\n      <td>...</td>\n      <td>...</td>\n      <td>...</td>\n      <td>...</td>\n      <td>...</td>\n      <td>...</td>\n      <td>...</td>\n      <td>...</td>\n      <td>...</td>\n      <td>...</td>\n      <td>...</td>\n      <td>...</td>\n      <td>...</td>\n      <td>...</td>\n      <td>...</td>\n      <td>...</td>\n      <td>...</td>\n      <td>...</td>\n      <td>...</td>\n    </tr>\n    <tr>\n      <th>4245</th>\n      <td>26</td>\n      <td>82</td>\n      <td>1</td>\n      <td>0</td>\n      <td>0</td>\n      <td>0</td>\n      <td>981</td>\n      <td>33</td>\n      <td>981</td>\n      <td>1293</td>\n      <td>49</td>\n      <td>1137</td>\n      <td>1002</td>\n      <td>41</td>\n      <td>549</td>\n      <td>82</td>\n      <td>6</td>\n      <td>82</td>\n      <td>0</td>\n      <td>0</td>\n    </tr>\n    <tr>\n      <th>4246</th>\n      <td>49</td>\n      <td>72</td>\n      <td>0</td>\n      <td>0</td>\n      <td>0</td>\n      <td>0</td>\n      <td>883</td>\n      <td>52</td>\n      <td>883</td>\n      <td>259</td>\n      <td>43</td>\n      <td>243</td>\n      <td>737</td>\n      <td>51</td>\n      <td>425</td>\n      <td>94</td>\n      <td>6</td>\n      <td>94</td>\n      <td>3</td>\n      <td>0</td>\n    </tr>\n    <tr>\n      <th>4247</th>\n      <td>27</td>\n      <td>74</td>\n      <td>0</td>\n      <td>0</td>\n      <td>0</td>\n      <td>0</td>\n      <td>821</td>\n      <td>64</td>\n      <td>821</td>\n      <td>810</td>\n      <td>87</td>\n      <td>720</td>\n      <td>235</td>\n      <td>66</td>\n      <td>173</td>\n      <td>48</td>\n      <td>7</td>\n      <td>48</td>\n      <td>1</td>\n      <td>0</td>\n    </tr>\n    <tr>\n      <th>4248</th>\n      <td>11</td>\n      <td>49</td>\n      <td>0</td>\n      <td>0</td>\n      <td>1</td>\n      <td>34</td>\n      <td>1418</td>\n      <td>90</td>\n      <td>1418</td>\n      <td>1099</td>\n      <td>87</td>\n      <td>969</td>\n      <td>1656</td>\n      <td>78</td>\n      <td>903</td>\n      <td>78</td>\n      <td>5</td>\n      <td>78</td>\n      <td>2</td>\n      <td>0</td>\n    </tr>\n    <tr>\n      <th>4249</th>\n      <td>46</td>\n      <td>85</td>\n      <td>1</td>\n      <td>0</td>\n      <td>1</td>\n      <td>28</td>\n      <td>439</td>\n      <td>65</td>\n      <td>439</td>\n      <td>1489</td>\n      <td>65</td>\n      <td>1305</td>\n      <td>444</td>\n      <td>62</td>\n      <td>285</td>\n      <td>72</td>\n      <td>16</td>\n      <td>72</td>\n      <td>0</td>\n      <td>0</td>\n    </tr>\n  </tbody>\n</table>\n<p>4250 rows × 20 columns</p>\n</div>"
     },
     "execution_count": 31,
     "metadata": {},
     "output_type": "execute_result"
    }
   ],
   "source": [
    "Data_dummies"
   ]
  },
  {
   "cell_type": "code",
   "execution_count": 32,
   "id": "02ef3029",
   "metadata": {},
   "outputs": [
    {
     "data": {
      "text/plain": "<matplotlib.axes._subplots.AxesSubplot at 0x1a4b265a088>"
     },
     "execution_count": 32,
     "metadata": {},
     "output_type": "execute_result"
    },
    {
     "data": {
      "text/plain": "<Figure size 432x288 with 1 Axes>",
      "image/png": "[encoded data removed]"
     },
     "metadata": {
      "needs_background": "light"
     },
     "output_type": "display_data"
    }
   ],
   "source": [
    "from pylab import rcParams\n",
    "rcParams['figure.figsize'] = 6,4 \n",
    "Data_dummies.corr()['churn'].sort_values(ascending = False)[1:].plot(kind='bar')"
   ]
  },
  {
   "cell_type": "code",
   "execution_count": 33,
   "id": "7da1fab4",
   "metadata": {},
   "outputs": [
    {
     "name": "stdout",
     "output_type": "stream",
     "text": [
      "<class 'pandas.core.frame.DataFrame'>\n",
      "RangeIndex: 4250 entries, 0 to 4249\n",
      "Data columns (total 20 columns):\n",
      " #   Column                         Non-Null Count  Dtype\n",
      "---  ------                         --------------  -----\n",
      " 0   state                          4250 non-null   int32\n",
      " 1   account_length                 4250 non-null   int64\n",
      " 2   area_code                      4250 non-null   int32\n",
      " 3   international_plan             4250 non-null   int32\n",
      " 4   voice_mail_plan                4250 non-null   int32\n",
      " 5   number_vmail_messages          4250 non-null   int64\n",
      " 6   total_day_minutes              4250 non-null   int64\n",
      " 7   total_day_calls                4250 non-null   int64\n",
      " 8   total_day_charge               4250 non-null   int64\n",
      " 9   total_eve_minutes              4250 non-null   int64\n",
      " 10  total_eve_calls                4250 non-null   int64\n",
      " 11  total_eve_charge               4250 non-null   int64\n",
      " 12  total_night_minutes            4250 non-null   int64\n",
      " 13  total_night_calls              4250 non-null   int64\n",
      " 14  total_night_charge             4250 non-null   int64\n",
      " 15  total_intl_minutes             4250 non-null   int64\n",
      " 16  total_intl_calls               4250 non-null   int64\n",
      " 17  total_intl_charge              4250 non-null   int64\n",
      " 18  number_customer_service_calls  4250 non-null   int64\n",
      " 19  churn                          4250 non-null   int64\n",
      "dtypes: int32(4), int64(16)\n",
      "memory usage: 597.8 KB\n"
     ]
    }
   ],
   "source": [
    "Data_dummies.info()"
   ]
  },
  {
   "cell_type": "code",
   "execution_count": 33,
   "id": "f7b003b2",
   "metadata": {},
   "outputs": [],
   "source": []
  },
  {
   "cell_type": "code",
   "execution_count": 33,
   "id": "b3e67a3c",
   "metadata": {},
   "outputs": [],
   "source": []
  },
  {
   "cell_type": "code",
   "execution_count": 34,
   "id": "242773b0",
   "metadata": {},
   "outputs": [
    {
     "name": "stdout",
     "output_type": "stream",
     "text": [
      "Numerical columns: \n",
      "Index(['total_day_minutes', 'total_day_charge', 'total_eve_minutes',\n",
      "       'total_eve_charge', 'total_night_minutes', 'total_night_charge',\n",
      "       'total_intl_minutes', 'total_intl_charge'],\n",
      "      dtype='object')\n"
     ]
    }
   ],
   "source": [
    "# Defining the numerical columns:\n",
    "\n",
    "numericalColumns = Data_train.select_dtypes(include=[np.float,np.int]).columns\n",
    "\n",
    "print(\"Numerical columns: \")\n",
    "print(numericalColumns)\n",
    "\n",
    "scaler_numerical = StandardScaler()\n",
    "\n",
    "numerical_transformer = Pipeline(steps = [('scale',scaler_numerical)])"
   ]
  },
  {
   "cell_type": "code",
   "execution_count": 35,
   "id": "1e0d6700",
   "metadata": {},
   "outputs": [
    {
     "data": {
      "text/plain": "total_day_minutes      float64\ntotal_day_charge       float64\ntotal_eve_minutes      float64\ntotal_eve_charge       float64\ntotal_night_minutes    float64\ntotal_night_charge     float64\ntotal_intl_minutes     float64\ntotal_intl_charge      float64\ndtype: object"
     },
     "execution_count": 35,
     "metadata": {},
     "output_type": "execute_result"
    }
   ],
   "source": [
    "# Showing numerical data type\n",
    "Data_train.loc[:,numericalColumns.values].dtypes"
   ]
  },
  {
   "cell_type": "markdown",
   "id": "5257eefa",
   "metadata": {},
   "source": [
    "Correlation plot between the numerical variables"
   ]
  },
  {
   "cell_type": "code",
   "execution_count": 36,
   "id": "6c22a3f6",
   "metadata": {},
   "outputs": [
    {
     "data": {
      "text/plain": "<Figure size 576x432 with 2 Axes>",
      "image/png": "[encoded data removed]"
     },
     "metadata": {},
     "output_type": "display_data"
    }
   ],
   "source": [
    "corrMatrix = Data_train.corr()\n",
    "\n",
    "sns.set(rc={'figure.figsize':(8,6)})\n",
    "sns.heatmap(corrMatrix)\n",
    "plt.show()"
   ]
  },
  {
   "cell_type": "code",
   "execution_count": 37,
   "id": "7e429e63",
   "metadata": {},
   "outputs": [],
   "source": [
    "# Let's find out the correlation between numerical variables and the target variable\n",
    "Data_numerical = Data_train.loc[:,numericalColumns.values]\n",
    "Data_numerical['churn'] = Data_train['churn']\n",
    "\n",
    "Data_numerical['churn'].replace(to_replace='yes', value=1, inplace=True)\n",
    "Data_numerical['churn'].replace(to_replace='no',  value=0, inplace=True)"
   ]
  },
  {
   "cell_type": "code",
   "execution_count": 38,
   "id": "b03af2fb",
   "metadata": {},
   "outputs": [
    {
     "data": {
      "text/plain": "<matplotlib.axes._subplots.AxesSubplot at 0x1a4b112bdc8>"
     },
     "execution_count": 38,
     "metadata": {},
     "output_type": "execute_result"
    },
    {
     "data": {
      "text/plain": "<Figure size 576x360 with 1 Axes>",
      "image/png": "[encoded data removed]"
     },
     "metadata": {},
     "output_type": "display_data"
    }
   ],
   "source": [
    "from pylab import rcParams\n",
    "rcParams['figure.figsize'] = 8,5 \n",
    "Data_numerical.corr()['churn'].sort_values(ascending = False)[1:].plot(kind='bar')"
   ]
  },
  {
   "cell_type": "code",
   "execution_count": 39,
   "id": "d136cea7",
   "metadata": {},
   "outputs": [
    {
     "name": "stdout",
     "output_type": "stream",
     "text": [
      "[[0.0 0.0 0.0 ... 3 1 'no']\n",
      " [0.0 0.0 0.0 ... 5 0 'no']\n",
      " [0.0 0.0 0.0 ... 7 2 'no']\n",
      " ...\n",
      " [0.0 0.0 0.0 ... 7 1 'no']\n",
      " [0.0 0.0 0.0 ... 5 2 'no']\n",
      " [0.0 0.0 0.0 ... 16 0 'no']]\n"
     ]
    }
   ],
   "source": [
    "# Preprocessing\n",
    "\n",
    "preproc = ColumnTransformer(transformers=[('cat',categorical_transformer,categoricalColumns),\n",
    "                                          ('num',numerical_transformer,numericalColumns)],\n",
    "                                          remainder = \"passthrough\")\n",
    "\n",
    "Data_churn_pd = preproc.fit_transform(Data_train)\n",
    "print(Data_churn_pd)"
   ]
  },
  {
   "cell_type": "markdown",
   "id": "0bee2985",
   "metadata": {},
   "source": [
    "# Defining X and y (Distributing Independent and dependent Data)"
   ]
  },
  {
   "cell_type": "code",
   "execution_count": 40,
   "id": "bbc39997",
   "metadata": {},
   "outputs": [
    {
     "name": "stdout",
     "output_type": "stream",
     "text": [
      "Encoded values of churn after LabelEncoding: [0 0 0 ... 0 0 0]\n"
     ]
    }
   ],
   "source": [
    "X = []\n",
    "X = Data_dummies.drop(['churn'],axis=1)\n",
    "#X = pd.DataFrame(Data_churn_pd).iloc[:,:-1]\n",
    "\n",
    "labebl_churn = pd.DataFrame(Data_train,columns = ['churn'])\n",
    "label_encoder = LabelEncoder()\n",
    "label = Data_train['churn']\n",
    "\n",
    "y = label_encoder.fit_transform(label)\n",
    "print(\"Encoded values of churn after LabelEncoding: \"  + str(y))"
   ]
  },
  {
   "cell_type": "code",
   "execution_count": 41,
   "id": "2a24c5f8",
   "metadata": {},
   "outputs": [
    {
     "data": {
      "text/plain": "      state  account_length  area_code  international_plan  voice_mail_plan  \\\n0        35             106          1                   0                1   \n1        31             136          1                   0                0   \n2        35              83          0                   1                0   \n3        36              74          1                   1                0   \n4        19             120          2                   0                1   \n...     ...             ...        ...                 ...              ...   \n4245     26              82          1                   0                0   \n4246     49              72          0                   0                0   \n4247     27              74          0                   0                0   \n4248     11              49          0                   0                1   \n4249     46              85          1                   0                1   \n\n      number_vmail_messages  total_day_minutes  total_day_calls  \\\n0                        20                737               86   \n1                         0               1483               77   \n2                         0               1788               34   \n3                         0                784               76   \n4                        18               1261               51   \n...                     ...                ...              ...   \n4245                      0                981               33   \n4246                      0                883               52   \n4247                      0                821               64   \n4248                     34               1418               90   \n4249                     28                439               65   \n\n      total_day_charge  total_eve_minutes  total_eve_calls  total_eve_charge  \\\n0                  737                832               64               740   \n1                 1483                195               71               185   \n2                 1788                 18               49                18   \n3                  784                393               83               359   \n4                 1261               1768               69              1567   \n...                ...                ...              ...               ...   \n4245               981               1293               49              1137   \n4246               883                259               43               243   \n4247               821                810               87               720   \n4248              1418               1099               87               969   \n4249               439               1489               65              1305   \n\n      total_night_minutes  total_night_calls  total_night_charge  \\\n0                    1378                 65                 732   \n1                     513                 66                 319   \n2                     842                 51                 473   \n3                     744                 83                 428   \n4                     991                 80                 544   \n...                   ...                ...                 ...   \n4245                 1002                 41                 549   \n4246                  737                 51                 425   \n4247                  235                 66                 173   \n4248                 1656                 78                 903   \n4249                  444                 62                 285   \n\n      total_intl_minutes  total_intl_calls  total_intl_charge  \\\n0                    116                 3                116   \n1                    101                 5                101   \n2                     45                 7                 45   \n3                     80                 3                 80   \n4                     54                 7                 54   \n...                  ...               ...                ...   \n4245                  82                 6                 82   \n4246                  94                 6                 94   \n4247                  48                 7                 48   \n4248                  78                 5                 78   \n4249                  72                16                 72   \n\n      number_customer_service_calls  \n0                                 1  \n1                                 0  \n2                                 2  \n3                                 3  \n4                                 3  \n...                             ...  \n4245                              0  \n4246                              3  \n4247                              1  \n4248                              2  \n4249                              0  \n\n[4250 rows x 19 columns]",
      "text/html": "<div>\n<style scoped>\n    .dataframe tbody tr th:only-of-type {\n        vertical-align: middle;\n    }\n\n    .dataframe tbody tr th {\n        vertical-align: top;\n    }\n\n    .dataframe thead th {\n        text-align: right;\n    }\n</style>\n<table border=\"1\" class=\"dataframe\">\n  <thead>\n    <tr style=\"text-align: right;\">\n      <th></th>\n      <th>state</th>\n      <th>account_length</th>\n      <th>area_code</th>\n      <th>international_plan</th>\n      <th>voice_mail_plan</th>\n      <th>number_vmail_messages</th>\n      <th>total_day_minutes</th>\n      <th>total_day_calls</th>\n      <th>total_day_charge</th>\n      <th>total_eve_minutes</th>\n      <th>total_eve_calls</th>\n      <th>total_eve_charge</th>\n      <th>total_night_minutes</th>\n      <th>total_night_calls</th>\n      <th>total_night_charge</th>\n      <th>total_intl_minutes</th>\n      <th>total_intl_calls</th>\n      <th>total_intl_charge</th>\n      <th>number_customer_service_calls</th>\n    </tr>\n  </thead>\n  <tbody>\n    <tr>\n      <th>0</th>\n      <td>35</td>\n      <td>106</td>\n      <td>1</td>\n      <td>0</td>\n      <td>1</td>\n      <td>20</td>\n      <td>737</td>\n      <td>86</td>\n      <td>737</td>\n      <td>832</td>\n      <td>64</td>\n      <td>740</td>\n      <td>1378</td>\n      <td>65</td>\n      <td>732</td>\n      <td>116</td>\n      <td>3</td>\n      <td>116</td>\n      <td>1</td>\n    </tr>\n    <tr>\n      <th>1</th>\n      <td>31</td>\n      <td>136</td>\n      <td>1</td>\n      <td>0</td>\n      <td>0</td>\n      <td>0</td>\n      <td>1483</td>\n      <td>77</td>\n      <td>1483</td>\n      <td>195</td>\n      <td>71</td>\n      <td>185</td>\n      <td>513</td>\n      <td>66</td>\n      <td>319</td>\n      <td>101</td>\n      <td>5</td>\n      <td>101</td>\n      <td>0</td>\n    </tr>\n    <tr>\n      <th>2</th>\n      <td>35</td>\n      <td>83</td>\n      <td>0</td>\n      <td>1</td>\n      <td>0</td>\n      <td>0</td>\n      <td>1788</td>\n      <td>34</td>\n      <td>1788</td>\n      <td>18</td>\n      <td>49</td>\n      <td>18</td>\n      <td>842</td>\n      <td>51</td>\n      <td>473</td>\n      <td>45</td>\n      <td>7</td>\n      <td>45</td>\n      <td>2</td>\n    </tr>\n    <tr>\n      <th>3</th>\n      <td>36</td>\n      <td>74</td>\n      <td>1</td>\n      <td>1</td>\n      <td>0</td>\n      <td>0</td>\n      <td>784</td>\n      <td>76</td>\n      <td>784</td>\n      <td>393</td>\n      <td>83</td>\n      <td>359</td>\n      <td>744</td>\n      <td>83</td>\n      <td>428</td>\n      <td>80</td>\n      <td>3</td>\n      <td>80</td>\n      <td>3</td>\n    </tr>\n    <tr>\n      <th>4</th>\n      <td>19</td>\n      <td>120</td>\n      <td>2</td>\n      <td>0</td>\n      <td>1</td>\n      <td>18</td>\n      <td>1261</td>\n      <td>51</td>\n      <td>1261</td>\n      <td>1768</td>\n      <td>69</td>\n      <td>1567</td>\n      <td>991</td>\n      <td>80</td>\n      <td>544</td>\n      <td>54</td>\n      <td>7</td>\n      <td>54</td>\n      <td>3</td>\n    </tr>\n    <tr>\n      <th>...</th>\n      <td>...</td>\n      <td>...</td>\n      <td>...</td>\n      <td>...</td>\n      <td>...</td>\n      <td>...</td>\n      <td>...</td>\n      <td>...</td>\n      <td>...</td>\n      <td>...</td>\n      <td>...</td>\n      <td>...</td>\n      <td>...</td>\n      <td>...</td>\n      <td>...</td>\n      <td>...</td>\n      <td>...</td>\n      <td>...</td>\n      <td>...</td>\n    </tr>\n    <tr>\n      <th>4245</th>\n      <td>26</td>\n      <td>82</td>\n      <td>1</td>\n      <td>0</td>\n      <td>0</td>\n      <td>0</td>\n      <td>981</td>\n      <td>33</td>\n      <td>981</td>\n      <td>1293</td>\n      <td>49</td>\n      <td>1137</td>\n      <td>1002</td>\n      <td>41</td>\n      <td>549</td>\n      <td>82</td>\n      <td>6</td>\n      <td>82</td>\n      <td>0</td>\n    </tr>\n    <tr>\n      <th>4246</th>\n      <td>49</td>\n      <td>72</td>\n      <td>0</td>\n      <td>0</td>\n      <td>0</td>\n      <td>0</td>\n      <td>883</td>\n      <td>52</td>\n      <td>883</td>\n      <td>259</td>\n      <td>43</td>\n      <td>243</td>\n      <td>737</td>\n      <td>51</td>\n      <td>425</td>\n      <td>94</td>\n      <td>6</td>\n      <td>94</td>\n      <td>3</td>\n    </tr>\n    <tr>\n      <th>4247</th>\n      <td>27</td>\n      <td>74</td>\n      <td>0</td>\n      <td>0</td>\n      <td>0</td>\n      <td>0</td>\n      <td>821</td>\n      <td>64</td>\n      <td>821</td>\n      <td>810</td>\n      <td>87</td>\n      <td>720</td>\n      <td>235</td>\n      <td>66</td>\n      <td>173</td>\n      <td>48</td>\n      <td>7</td>\n      <td>48</td>\n      <td>1</td>\n    </tr>\n    <tr>\n      <th>4248</th>\n      <td>11</td>\n      <td>49</td>\n      <td>0</td>\n      <td>0</td>\n      <td>1</td>\n      <td>34</td>\n      <td>1418</td>\n      <td>90</td>\n      <td>1418</td>\n      <td>1099</td>\n      <td>87</td>\n      <td>969</td>\n      <td>1656</td>\n      <td>78</td>\n      <td>903</td>\n      <td>78</td>\n      <td>5</td>\n      <td>78</td>\n      <td>2</td>\n    </tr>\n    <tr>\n      <th>4249</th>\n      <td>46</td>\n      <td>85</td>\n      <td>1</td>\n      <td>0</td>\n      <td>1</td>\n      <td>28</td>\n      <td>439</td>\n      <td>65</td>\n      <td>439</td>\n      <td>1489</td>\n      <td>65</td>\n      <td>1305</td>\n      <td>444</td>\n      <td>62</td>\n      <td>285</td>\n      <td>72</td>\n      <td>16</td>\n      <td>72</td>\n      <td>0</td>\n    </tr>\n  </tbody>\n</table>\n<p>4250 rows × 19 columns</p>\n</div>"
     },
     "execution_count": 41,
     "metadata": {},
     "output_type": "execute_result"
    }
   ],
   "source": [
    "X"
   ]
  },
  {
   "cell_type": "markdown",
   "id": "f8d663f2",
   "metadata": {},
   "source": [
    "# Scale Values"
   ]
  },
  {
   "cell_type": "code",
   "execution_count": 42,
   "id": "f89e0a1c",
   "metadata": {},
   "outputs": [],
   "source": [
    "from sklearn.preprocessing import StandardScaler"
   ]
  },
  {
   "cell_type": "code",
   "execution_count": 43,
   "id": "71b19d29",
   "metadata": {},
   "outputs": [],
   "source": [
    "scaler  = StandardScaler()\n",
    "X_scaled = scaler.fit_transform(X)"
   ]
  },
  {
   "cell_type": "code",
   "execution_count": 44,
   "id": "a1b7b0c0",
   "metadata": {},
   "outputs": [
    {
     "data": {
      "text/plain": "Counter({0: 3652, 1: 598})"
     },
     "execution_count": 44,
     "metadata": {},
     "output_type": "execute_result"
    }
   ],
   "source": [
    "from collections import Counter\n",
    "Counter(y)"
   ]
  },
  {
   "cell_type": "code",
   "execution_count": 45,
   "id": "31dbb92a",
   "metadata": {},
   "outputs": [
    {
     "data": {
      "text/plain": "array([[ 0.60308081,  0.17244364,  0.00994348, ..., -0.57916393,\n         1.2662561 , -0.42634613],\n       [ 0.33221228,  0.93125519,  0.00994348, ...,  0.2329267 ,\n         0.71286423, -1.1889602 ],\n       [ 0.60308081, -0.40931188, -1.39871658, ...,  1.04501732,\n        -1.35313212,  0.33626795],\n       ...,\n       [ 0.06134376, -0.63695534, -1.39871658, ...,  1.04501732,\n        -1.24245374, -0.42634613],\n       [-1.02213036, -1.2692983 , -1.39871658, ...,  0.2329267 ,\n        -0.13566999,  0.33626795],\n       [ 1.34796927, -0.35872444,  0.00994348, ...,  4.69942514,\n        -0.35702674, -1.1889602 ]])"
     },
     "execution_count": 45,
     "metadata": {},
     "output_type": "execute_result"
    }
   ],
   "source": [
    "X_scaled"
   ]
  },
  {
   "cell_type": "code",
   "execution_count": 46,
   "id": "b20a9c47",
   "metadata": {},
   "outputs": [
    {
     "data": {
      "text/plain": "(4250, 19)"
     },
     "execution_count": 46,
     "metadata": {},
     "output_type": "execute_result"
    }
   ],
   "source": [
    "X_scaled.shape"
   ]
  },
  {
   "cell_type": "code",
   "execution_count": 47,
   "id": "c471f70a",
   "metadata": {},
   "outputs": [
    {
     "data": {
      "text/plain": "(4250,)"
     },
     "execution_count": 47,
     "metadata": {},
     "output_type": "execute_result"
    }
   ],
   "source": [
    "y.shape"
   ]
  },
  {
   "cell_type": "markdown",
   "id": "b659b3c3",
   "metadata": {},
   "source": [
    "# Train, Test, Split\n"
   ]
  },
  {
   "cell_type": "code",
   "execution_count": 48,
   "id": "4e266532",
   "metadata": {},
   "outputs": [
    {
     "name": "stdout",
     "output_type": "stream",
     "text": [
      "Training Input shape: (2847, 19)\n",
      "Training Output shape: (2847,)\n",
      "Training Input shape: (1403, 19)\n",
      "Training Input shape: (1403,)\n"
     ]
    }
   ],
   "source": [
    "from sklearn.model_selection import train_test_split\n",
    "X_train, X_test, y_train, y_test = train_test_split(X_scaled, y, test_size=0.33, random_state=42)\n",
    "\n",
    "print(\"Training Input shape: \" + str(X_train.shape))\n",
    "print(\"Training Output shape: \" + str(y_train.shape))\n",
    "\n",
    "print(\"Training Input shape: \" + str(X_test.shape))\n",
    "print(\"Training Input shape: \" + str(y_test.shape))"
   ]
  },
  {
   "cell_type": "code",
   "execution_count": 49,
   "id": "0fb20af8",
   "metadata": {},
   "outputs": [
    {
     "data": {
      "text/plain": "array([[-1.49615029, -0.40931188,  0.00994348, ..., -0.17311861,\n         0.04879397, -1.1889602 ],\n       [ 0.06134376, -1.1428297 , -1.39871658, ..., -0.17311861,\n        -0.20945557, -0.42634613],\n       [ 0.73851508, -0.0299061 , -1.39871658, ..., -0.17311861,\n         0.67597143, -1.1889602 ],\n       ...,\n       [ 1.55112067,  1.66477302, -1.39871658, ...,  0.2329267 ,\n         0.27015072,  2.62411017],\n       [ 1.14481787, -1.31988573,  1.41860354, ..., -0.98520924,\n         0.67597143, -0.42634613],\n       [-1.29299889,  1.20948609,  0.00994348, ..., -1.39125455,\n         0.74975702, -0.42634613]])"
     },
     "execution_count": 49,
     "metadata": {},
     "output_type": "execute_result"
    }
   ],
   "source": [
    "X_train"
   ]
  },
  {
   "cell_type": "code",
   "execution_count": 50,
   "id": "945a403e",
   "metadata": {},
   "outputs": [
    {
     "data": {
      "text/plain": "array([[-0.6835447 , -1.62341035,  1.41860354, ...,  0.2329267 ,\n         0.23325793, -0.42634613],\n       [-0.00637338, -2.12928472,  1.41860354, ...,  1.45106264,\n         0.15947235, -0.42634613],\n       [ 0.19677802, -0.0299061 ,  0.00994348, ..., -0.98520924,\n         0.41772189,  1.09888202],\n       ...,\n       [-0.07409051,  0.40008711,  0.00994348, ..., -0.57916393,\n         0.3808291 ,  0.33626795],\n       [-0.41267617,  1.58889186,  1.41860354, ..., -0.17311861,\n        -1.50070329, -0.42634613],\n       [-1.22528176,  0.5265557 , -1.39871658, ..., -0.17311861,\n        -0.0618844 ,  2.62411017]])"
     },
     "execution_count": 50,
     "metadata": {},
     "output_type": "execute_result"
    }
   ],
   "source": [
    "X_test"
   ]
  },
  {
   "cell_type": "code",
   "execution_count": 51,
   "id": "744f9c7b",
   "metadata": {},
   "outputs": [
    {
     "data": {
      "text/plain": "array([1, 0, 0, ..., 1, 0, 0])"
     },
     "execution_count": 51,
     "metadata": {},
     "output_type": "execute_result"
    }
   ],
   "source": [
    "y_train"
   ]
  },
  {
   "cell_type": "code",
   "execution_count": 52,
   "id": "cd534d2f",
   "metadata": {},
   "outputs": [
    {
     "data": {
      "text/plain": "array([0, 0, 0, ..., 0, 0, 0])"
     },
     "execution_count": 52,
     "metadata": {},
     "output_type": "execute_result"
    }
   ],
   "source": [
    "y_test"
   ]
  },
  {
   "cell_type": "code",
   "execution_count": 53,
   "id": "1e77f317",
   "metadata": {},
   "outputs": [
    {
     "data": {
      "text/plain": "no     3652\nyes     598\nName: churn, dtype: int64"
     },
     "execution_count": 53,
     "metadata": {},
     "output_type": "execute_result"
    }
   ],
   "source": [
    "label.value_counts()"
   ]
  },
  {
   "cell_type": "markdown",
   "id": "e83200a5",
   "metadata": {},
   "source": [
    "# Random Forest Model "
   ]
  },
  {
   "cell_type": "code",
   "execution_count": 54,
   "id": "75a5725e",
   "metadata": {},
   "outputs": [
    {
     "name": "stdout",
     "output_type": "stream",
     "text": [
      "{'n_estimators': [200, 400, 600, 800, 1000, 1200, 1400, 1600, 1800, 2000], 'max_features': ['auto', 'sqrt', 'log2'], 'max_depth': [10, 120, 230, 340, 450, 560, 670, 780, 890, 1000], 'min_samples_split': [1, 2, 3, 4, 5, 10, 14, 15, 20], 'min_samples_leaf': [1, 2, 3, 4, 5, 6, 7, 8], 'criterion': ['entropy', 'gini']}\n",
      "Wall time: 263 ms\n"
     ]
    }
   ],
   "source": [
    "%%time\n",
    "from sklearn.ensemble import RandomForestClassifier\n",
    "\n",
    "\n",
    "#Hyper Parametertuning\n",
    "\n",
    "from sklearn.model_selection import RandomizedSearchCV\n",
    "from sklearn.model_selection import GridSearchCV\n",
    "# Nos of trees in random forest \n",
    "n_estimators = [int(x) for x in np.linspace(start =200, stop = 2000, num = 10)]\n",
    "# Nos of features to consider at every split\n",
    "max_features = ['auto','sqrt','log2']\n",
    "# Maximum nos of levels in tree\n",
    "max_depth = [int(x) for x in np.linspace(10,1000,10)]\n",
    "# Minimum nos of samples to split a node\n",
    "min_samples_split = [1,2,3,4,5,10,14,15,20]\n",
    "# Minimum nos of samples required at each leaf node \n",
    "min_samples_leaf = [1,2,3,4,5,6,7,8]\n",
    "criterion = ['entropy','gini']\n",
    "# Creating Random Grid\n",
    "grid_search ={'n_estimators' : n_estimators,\n",
    "             'max_features' : max_features,\n",
    "             'max_depth' : max_depth,\n",
    "             'min_samples_split': min_samples_split,\n",
    "             'min_samples_leaf' : min_samples_leaf,\n",
    "             'criterion' : criterion}\n",
    "print(grid_search)\n",
    "model_name= \"Random Forest Classifier\"\n",
    "#randomForestClassifier = RandomForestClassifier(n_estimators = 100, max_depth = 10, random_state = 0)\n",
    "randomForestClassifier = RandomForestClassifier()\n",
    "#randomForestClassifier_cv = GridSearchCV(estimator = randomForestClassifier,param_grid = grid_search,cv= 3, verbose = 2,n_jobs=-1,return_train_score=True)\n",
    "# Fit randomized model\n",
    "#randomForestClassifier_cv.fit(X_train,y_train)"
   ]
  },
  {
   "cell_type": "code",
   "execution_count": 55,
   "id": "8fe5e845",
   "metadata": {},
   "outputs": [],
   "source": [
    "# rfc_model = Pipeline(steps = [('preprocessor',preproc),('classifier',randomForestClassifier)])\n",
    "#rfc_model = Pipeline(steps = [('classifier',randomForestClassifier)])\n",
    "#randomForestClassifier_cv.best_params_"
   ]
  },
  {
   "cell_type": "code",
   "execution_count": 56,
   "id": "2730100e",
   "metadata": {},
   "outputs": [],
   "source": [
    "RrandomForestClassifier = RandomForestClassifier(n_estimators = 400,min_samples_split = 5,min_samples_leaf = 1,max_features = 'sqrt', max_depth = 780,criterion = 'gini', random_state = 100)\n"
   ]
  },
  {
   "cell_type": "code",
   "execution_count": 57,
   "id": "7453ffa6",
   "metadata": {},
   "outputs": [],
   "source": [
    "rfc_model = Pipeline(steps = [('classifier',RrandomForestClassifier)])"
   ]
  },
  {
   "cell_type": "code",
   "execution_count": 58,
   "id": "5b6a4647",
   "metadata": {},
   "outputs": [
    {
     "data": {
      "text/plain": "Pipeline(memory=None,\n         steps=[('classifier',\n                 RandomForestClassifier(bootstrap=True, ccp_alpha=0.0,\n                                        class_weight=None, criterion='gini',\n                                        max_depth=780, max_features='sqrt',\n                                        max_leaf_nodes=None, max_samples=None,\n                                        min_impurity_decrease=0.0,\n                                        min_impurity_split=None,\n                                        min_samples_leaf=1, min_samples_split=5,\n                                        min_weight_fraction_leaf=0.0,\n                                        n_estimators=400, n_jobs=None,\n                                        oob_score=False, random_state=100,\n                                        verbose=0, warm_start=False))],\n         verbose=False)"
     },
     "execution_count": 58,
     "metadata": {},
     "output_type": "execute_result"
    }
   ],
   "source": [
    "rfc_model.fit(X_train,y_train)"
   ]
  },
  {
   "cell_type": "code",
   "execution_count": 59,
   "id": "aeaf52b0",
   "metadata": {},
   "outputs": [],
   "source": [
    "y_pred_rfc = rfc_model.predict(X_test)"
   ]
  },
  {
   "cell_type": "code",
   "execution_count": 60,
   "id": "96780d9b",
   "metadata": {},
   "outputs": [
    {
     "name": "stdout",
     "output_type": "stream",
     "text": [
      "96.0%\n",
      "[[1182    9]\n",
      " [  47  165]]\n",
      "              precision    recall  f1-score   support\n",
      "\n",
      "           0       0.96      0.99      0.98      1191\n",
      "           1       0.95      0.78      0.85       212\n",
      "\n",
      "    accuracy                           0.96      1403\n",
      "   macro avg       0.96      0.89      0.92      1403\n",
      "weighted avg       0.96      0.96      0.96      1403\n",
      "\n"
     ]
    }
   ],
   "source": [
    "from sklearn.metrics import accuracy_score, confusion_matrix, classification_report\n",
    "\n",
    "# View accuracy score\n",
    "rf = round(accuracy_score(y_test, y_pred_rfc),2)*100\n",
    "print(str(rf)+'%')\n",
    "\n",
    "# View confusion matrix for test data and predictions\n",
    "print(confusion_matrix(y_test, y_pred_rfc))\n",
    "\n",
    "# View the classification report for test data and predictions\n",
    "print(classification_report(y_test, y_pred_rfc))"
   ]
  },
  {
   "cell_type": "markdown",
   "id": "35913b95",
   "metadata": {},
   "source": [
    "Predicting on test Data"
   ]
  },
  {
   "cell_type": "markdown",
   "id": "475e0333",
   "metadata": {},
   "source": [
    "Data_test_id = Data_test.iloc[:,0]\n",
    "\n",
    "Data_test_data = Data_test.iloc[:,1:]\n",
    "Data_test_data.columns = list(X.columns)\n",
    "\n",
    "test_pred_rfc = rfc_model.predict(X_test)\n",
    "\n",
    "final = pd.DataFrame(Data_test_id.copy())\n",
    "\n",
    "final['pred'] = pd.Series(test_pred_rfc)\n",
    "\n",
    "mapping = {0:'no',1:'yes'}\n",
    "final['churn'] = final['pred'].map(mapping)\n",
    "final.drop(['pred'],axis=1,inplace = True)\n",
    "\n",
    "final.to_csv(str(model_name)+'.csv',index=False)"
   ]
  },
  {
   "cell_type": "code",
   "execution_count": 60,
   "id": "74d9f0ee",
   "metadata": {},
   "outputs": [],
   "source": []
  },
  {
   "cell_type": "markdown",
   "id": "55e11851",
   "metadata": {},
   "source": [
    "# Logistic Regression"
   ]
  },
  {
   "cell_type": "code",
   "execution_count": 61,
   "id": "178e93fe",
   "metadata": {},
   "outputs": [],
   "source": [
    "from sklearn.linear_model import LogisticRegression\n",
    "\n",
    "model_name = \"Logistic Regression Classifier\"\n",
    "\n",
    "LogisticRegressionClassifier = LogisticRegression(random_state=0,multi_class='auto',solver='lbfgs',max_iter=1000)\n",
    "\n",
    "#lrc_model = Pipeline(steps = [('preprocessor',preproc),('classifier',LogisticRegressionClassifier)])\n",
    "lrc_model = Pipeline(steps = [('classifier',LogisticRegressionClassifier)])\n",
    "\n",
    "lrc_model.fit(X_train,y_train)\n",
    "y_pred_lrc = lrc_model.predict(X_test)"
   ]
  },
  {
   "cell_type": "code",
   "execution_count": 62,
   "id": "42e0cfed",
   "metadata": {},
   "outputs": [
    {
     "name": "stdout",
     "output_type": "stream",
     "text": [
      "86.0%\n",
      "[[1169   22]\n",
      " [ 174   38]]\n"
     ]
    }
   ],
   "source": [
    "# View accuracy score\n",
    "lr = round(accuracy_score(y_test, y_pred_lrc),2)*100\n",
    "print(str(lr)+'%')\n",
    "\n",
    "# View confusion matrix for test data and predictions\n",
    "print(confusion_matrix(y_test, y_pred_lrc))"
   ]
  },
  {
   "cell_type": "markdown",
   "id": "15bc4144",
   "metadata": {},
   "source": [
    "Predicting on test data"
   ]
  },
  {
   "cell_type": "markdown",
   "id": "7b437232",
   "metadata": {},
   "source": [
    "Data_test_id = Data_test.iloc[:,0]\n",
    "\n",
    "Data_test_data = Data_test.iloc[:,1:]\n",
    "Data_test_data.columns = list(X.columns)\n",
    "\n",
    "test_pred_lrc = lrc_model.predict(X_test)\n",
    "\n",
    "final = pd.DataFrame(Data_test_id.copy())\n",
    "\n",
    "final['pred'] = pd.Series(test_pred_lrc)\n",
    "\n",
    "mapping = {0:'no',1:'yes'}\n",
    "final['churn'] = final['pred'].map(mapping)\n",
    "final.drop(['pred'],axis=1,inplace = True)\n",
    "\n",
    "final.to_csv(str(model_name)+'.csv',index=False)"
   ]
  },
  {
   "cell_type": "code",
   "execution_count": 62,
   "id": "3eb488ee",
   "metadata": {},
   "outputs": [],
   "source": []
  },
  {
   "cell_type": "markdown",
   "id": "c63e43a1",
   "metadata": {},
   "source": [
    "# Support Vector Machine"
   ]
  },
  {
   "cell_type": "code",
   "execution_count": 63,
   "id": "66a7896c",
   "metadata": {},
   "outputs": [],
   "source": [
    "#from sklearn.svm import SVC\n",
    "\n",
    "#model_name = \"Support Vector Machine\"\n",
    "#svm_Classifier = SVC(kernel = \"poly\",gamma = 'auto', C = 1.0 )\n",
    "#svm_Classifier.fit(X_train,y_train)\n"
   ]
  },
  {
   "cell_type": "code",
   "execution_count": 64,
   "id": "74827e18",
   "metadata": {},
   "outputs": [],
   "source": [
    "#from sklearn.svm import SVC\n",
    "#from sklearn.model_selection import GridSearchCV\n",
    "\n",
    "#model_name = \"Support Vector Machine\"\n",
    "\n",
    "#svmClassifier = SVC(C=1.0, kernel = \"linear\",gamma =\"auto\")\n",
    "#clf = GridSearchCV(SVC(gamma = \"auto\"),{\n",
    "#    \"C\":[1,10,20,30,40,50],\n",
    "#    \"kernel\":[\"rbf\",\"linear\"]\n",
    "#}, cv = 5, return_train_score = False)\n",
    "#clf.fit(X_train,y_train)\n",
    "\n",
    "\n",
    "#svm_model = Pipeline(steps = [('preprocessor',preproc),('classifier',svmClassifier)])\n",
    "\n",
    "#svm_model.fit(X_train,y_train)\n",
    "#y_pred_svm = svm_model.predict(X_test)"
   ]
  },
  {
   "cell_type": "code",
   "execution_count": 64,
   "id": "4fc6f299",
   "metadata": {},
   "outputs": [],
   "source": []
  },
  {
   "cell_type": "code",
   "execution_count": 64,
   "id": "653995cf",
   "metadata": {},
   "outputs": [],
   "source": []
  },
  {
   "cell_type": "code",
   "execution_count": 65,
   "id": "264a8cfb",
   "metadata": {},
   "outputs": [],
   "source": [
    "# View accuracy score\n",
    "#svm = round(accuracy_score(y_test, y_pred_svm),2)*100\n",
    "#print(str(svm)+'%')\n",
    "\n",
    "# View confusion matrix for test data and predictions\n",
    "#print(confusion_matrix(y_test, y_pred_svm))"
   ]
  },
  {
   "cell_type": "markdown",
   "id": "713de722",
   "metadata": {},
   "source": [
    "# Decision Tree "
   ]
  },
  {
   "cell_type": "code",
   "execution_count": 66,
   "id": "4053e890",
   "metadata": {},
   "outputs": [],
   "source": [
    "from sklearn.tree import DecisionTreeClassifier"
   ]
  },
  {
   "cell_type": "markdown",
   "id": "fdb1d544",
   "metadata": {},
   "source": []
  },
  {
   "cell_type": "code",
   "execution_count": 67,
   "id": "30757b8a",
   "metadata": {},
   "outputs": [],
   "source": [
    "Model_name = \"Decision Tree\""
   ]
  },
  {
   "cell_type": "code",
   "execution_count": 68,
   "id": "5b97649f",
   "metadata": {},
   "outputs": [],
   "source": [
    "DecisionTreeClassifier = DecisionTreeClassifier()"
   ]
  },
  {
   "cell_type": "code",
   "execution_count": 69,
   "id": "3b93d61b",
   "metadata": {},
   "outputs": [],
   "source": [
    "DTC_model = Pipeline(steps = [('classifier',DecisionTreeClassifier)])"
   ]
  },
  {
   "cell_type": "code",
   "execution_count": 70,
   "id": "0a8c18fe",
   "metadata": {},
   "outputs": [
    {
     "data": {
      "text/plain": "Pipeline(memory=None,\n         steps=[('classifier',\n                 DecisionTreeClassifier(ccp_alpha=0.0, class_weight=None,\n                                        criterion='gini', max_depth=None,\n                                        max_features=None, max_leaf_nodes=None,\n                                        min_impurity_decrease=0.0,\n                                        min_impurity_split=None,\n                                        min_samples_leaf=1, min_samples_split=2,\n                                        min_weight_fraction_leaf=0.0,\n                                        presort='deprecated', random_state=None,\n                                        splitter='best'))],\n         verbose=False)"
     },
     "execution_count": 70,
     "metadata": {},
     "output_type": "execute_result"
    }
   ],
   "source": [
    "DTC_model.fit(X_train,y_train)"
   ]
  },
  {
   "cell_type": "code",
   "execution_count": 71,
   "id": "42e2dc68",
   "metadata": {},
   "outputs": [],
   "source": [
    "y_pred_DTC = DTC_model.predict(X_test)"
   ]
  },
  {
   "cell_type": "code",
   "execution_count": 72,
   "id": "e200daff",
   "metadata": {},
   "outputs": [
    {
     "name": "stdout",
     "output_type": "stream",
     "text": [
      "92.0%\n",
      "[[1127   64]\n",
      " [  54  158]]\n",
      "Wall time: 4.99 ms\n"
     ]
    }
   ],
   "source": [
    "%%time\n",
    "# View accuracy score\n",
    "DTC = round(accuracy_score(y_test, y_pred_DTC),2)*100\n",
    "print(str(DTC)+'%')\n",
    "\n",
    "# View confusion matrix for test data and predictions\n",
    "print(confusion_matrix(y_test, y_pred_DTC))"
   ]
  },
  {
   "cell_type": "code",
   "execution_count": 72,
   "id": "186aa34f",
   "metadata": {},
   "outputs": [],
   "source": []
  },
  {
   "cell_type": "markdown",
   "id": "7ce9b447",
   "metadata": {},
   "source": [
    "# ENSEMBLE ALGORITHM (SVM & DecisionTree, RandomForest, Catboost\n",
    ")"
   ]
  },
  {
   "cell_type": "code",
   "execution_count": 73,
   "id": "a502192f",
   "metadata": {},
   "outputs": [
    {
     "ename": "ModuleNotFoundError",
     "evalue": "No module named 'catboost'",
     "output_type": "error",
     "traceback": [
      "\u001B[1;31m---------------------------------------------------------------------------\u001B[0m",
      "\u001B[1;31mModuleNotFoundError\u001B[0m                       Traceback (most recent call last)",
      "\u001B[1;32m<ipython-input-73-65db86314cb4>\u001B[0m in \u001B[0;36m<module>\u001B[1;34m\u001B[0m\n\u001B[0;32m      6\u001B[0m \u001B[1;32mfrom\u001B[0m \u001B[0msklearn\u001B[0m\u001B[1;33m.\u001B[0m\u001B[0mpipeline\u001B[0m \u001B[1;32mimport\u001B[0m \u001B[0mPipeline\u001B[0m\u001B[1;33m\u001B[0m\u001B[1;33m\u001B[0m\u001B[0m\n\u001B[0;32m      7\u001B[0m \u001B[1;32mfrom\u001B[0m \u001B[0msklearn\u001B[0m\u001B[1;33m.\u001B[0m\u001B[0mensemble\u001B[0m \u001B[1;32mimport\u001B[0m \u001B[0mBaggingClassifier\u001B[0m\u001B[1;33m\u001B[0m\u001B[1;33m\u001B[0m\u001B[0m\n\u001B[1;32m----> 8\u001B[1;33m \u001B[1;32mimport\u001B[0m \u001B[0mcatboost\u001B[0m\u001B[1;33m\u001B[0m\u001B[1;33m\u001B[0m\u001B[0m\n\u001B[0m\u001B[0;32m      9\u001B[0m \u001B[1;32mfrom\u001B[0m \u001B[0mcatboost\u001B[0m \u001B[1;32mimport\u001B[0m \u001B[0mCatBoostClassifier\u001B[0m\u001B[1;33m\u001B[0m\u001B[1;33m\u001B[0m\u001B[0m\n\u001B[0;32m     10\u001B[0m \u001B[1;32mimport\u001B[0m \u001B[0mxgboost\u001B[0m\u001B[1;33m\u001B[0m\u001B[1;33m\u001B[0m\u001B[0m\n",
      "\u001B[1;31mModuleNotFoundError\u001B[0m: No module named 'catboost'"
     ]
    }
   ],
   "source": [
    "from sklearn.tree import DecisionTreeClassifier\n",
    "from sklearn.ensemble import RandomForestClassifier\n",
    "from sklearn.model_selection import cross_val_score\n",
    "from sklearn.model_selection import RepeatedStratifiedKFold\n",
    "from sklearn.ensemble import VotingClassifier\n",
    "from sklearn.pipeline import Pipeline\n",
    "from sklearn.ensemble import BaggingClassifier\n",
    "# import catboost\n",
    "# from catboost import CatBoostClassifier\n",
    "import xgboost\n",
    "from xgboost import XGBModel"
   ]
  },
  {
   "cell_type": "code",
   "execution_count": null,
   "id": "44df21a0",
   "metadata": {},
   "outputs": [],
   "source": [
    "models = list()\n",
    "\n"
   ]
  },
  {
   "cell_type": "code",
   "execution_count": null,
   "id": "a73cd5a6",
   "metadata": {},
   "outputs": [],
   "source": [
    "decision_tree = Pipeline([('m',DecisionTreeClassifier())])\n",
    "models.append(('decision', decision_tree))"
   ]
  },
  {
   "cell_type": "code",
   "execution_count": null,
   "id": "3ae45f05",
   "metadata": {},
   "outputs": [],
   "source": [
    "#svc = Pipeline([('m',SVC(C=1.0, kernel = \"linear\",gamma =\"auto\"))])\n",
    "#models.append(('svc',svc))"
   ]
  },
  {
   "cell_type": "code",
   "execution_count": null,
   "id": "515f6762",
   "metadata": {},
   "outputs": [],
   "source": [
    "#Random Forest\n",
    "randomforest = Pipeline([('m',RandomForestClassifier(n_estimators = 400,min_samples_split = 5,min_samples_leaf = 1,max_features = 'sqrt', max_depth = 780,criterion = 'gini', random_state = 100))])\n",
    "models.append(('randomforest', randomforest))"
   ]
  },
  {
   "cell_type": "code",
   "execution_count": null,
   "id": "b92a3d18",
   "metadata": {},
   "outputs": [],
   "source": [
    "#Catboost Algorithm\n",
    "# CatBoost = Pipeline([('m',CatBoostClassifier(task_type='GPU',iterations=100,random_state=2021, eval_metric=\"F1\"))])\n",
    "# models.append(('CatBoost', CatBoost))"
   ]
  },
  {
   "cell_type": "code",
   "execution_count": null,
   "id": "f0a8d9c2",
   "metadata": {},
   "outputs": [],
   "source": [
    "#Define the voting ensemble\n",
    "ensemble = BaggingClassifier()\n",
    "#ensemble = VotingClassifier(estimators = models, voting='hard')"
   ]
  },
  {
   "cell_type": "code",
   "execution_count": null,
   "id": "c6466cf8",
   "metadata": {},
   "outputs": [],
   "source": [
    "ensemble"
   ]
  },
  {
   "cell_type": "code",
   "execution_count": null,
   "id": "0ca866a8",
   "metadata": {},
   "outputs": [],
   "source": [
    "%%time\n",
    "cv= RepeatedStratifiedKFold(n_splits = 6, n_repeats = 3, random_state = 1)\n",
    "n_scores = cross_val_score(ensemble, X_train, y_train, scoring='accuracy', cv=cv, n_jobs = -1)"
   ]
  },
  {
   "cell_type": "code",
   "execution_count": null,
   "id": "c301a134",
   "metadata": {},
   "outputs": [],
   "source": [
    "n_scores"
   ]
  },
  {
   "cell_type": "code",
   "execution_count": null,
   "id": "aa1a5d78",
   "metadata": {
    "scrolled": true
   },
   "outputs": [],
   "source": [
    "Data_train"
   ]
  },
  {
   "cell_type": "code",
   "execution_count": null,
   "id": "46a81c9e",
   "metadata": {
    "scrolled": true
   },
   "outputs": [],
   "source": [
    "Data_train[\"churn\"]== \"yes\""
   ]
  },
  {
   "cell_type": "code",
   "execution_count": null,
   "id": "cf10f825",
   "metadata": {},
   "outputs": [],
   "source": [
    "n_scores.mean()"
   ]
  },
  {
   "cell_type": "code",
   "execution_count": null,
   "id": "fa704c4f",
   "metadata": {},
   "outputs": [],
   "source": [
    "X_train"
   ]
  },
  {
   "cell_type": "code",
   "execution_count": null,
   "id": "9d0da81a",
   "metadata": {},
   "outputs": [],
   "source": [
    "Data_dummies\n"
   ]
  },
  {
   "cell_type": "code",
   "execution_count": null,
   "id": "61733a28",
   "metadata": {},
   "outputs": [],
   "source": [
    "sns.pairplot(Data_dummies, hue = 'churn')"
   ]
  },
  {
   "cell_type": "code",
   "execution_count": null,
   "id": "b5b460be",
   "metadata": {},
   "outputs": [],
   "source": []
  }
 ],
 "metadata": {
  "kernelspec": {
   "display_name": "Python 3",
   "language": "python",
   "name": "python3"
  },
  "language_info": {
   "codemirror_mode": {
    "name": "ipython",
    "version": 3
   },
   "file_extension": ".py",
   "mimetype": "text/x-python",
   "name": "python",
   "nbconvert_exporter": "python",
   "pygments_lexer": "ipython3",
   "version": "3.7.10"
  }
 },
 "nbformat": 4,
 "nbformat_minor": 5
}